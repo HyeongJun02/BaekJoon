{
  "cells": [
    {
      "cell_type": "markdown",
      "metadata": {
        "id": "view-in-github",
        "colab_type": "text"
      },
      "source": [
        "<a href=\"https://colab.research.google.com/github/HyeongJun02/BaekJoon/blob/main/%5BML%5D_%5B24_10_08%5D_02_MLP.ipynb\" target=\"_parent\"><img src=\"https://colab.research.google.com/assets/colab-badge.svg\" alt=\"Open In Colab\"/></a>"
      ]
    },
    {
      "cell_type": "markdown",
      "metadata": {
        "id": "e8CW-ldez0bV"
      },
      "source": [
        "## 패키지 선언"
      ]
    },
    {
      "cell_type": "code",
      "execution_count": null,
      "metadata": {
        "id": "8y9SBNBvz989"
      },
      "outputs": [],
      "source": [
        "import torch\n",
        "import torch.nn as nn\n",
        "import torchvision.datasets as dataset\n",
        "import torchvision.transforms as transform\n",
        "from torch.utils.data import DataLoader"
      ]
    },
    {
      "cell_type": "markdown",
      "metadata": {
        "id": "xIZvkTTVz_We"
      },
      "source": [
        "## Dataset 선언"
      ]
    },
    {
      "cell_type": "code",
      "execution_count": null,
      "metadata": {
        "id": "22hst1Gx0DPK"
      },
      "outputs": [],
      "source": [
        "# Training dataset 다운로드\n",
        "mnist_train = dataset.MNIST(root = \"./\", # 데이터셋을 저장할 위치\n",
        "                            train = True,\n",
        "                            transform = transform.ToTensor(),\n",
        "                            download = True)\n",
        "# Testing dataset 다운로드\n",
        "mnist_test = dataset.MNIST(root = \"./\",\n",
        "                            train = False,\n",
        "                            transform = transform.ToTensor(),\n",
        "                            download = True)"
      ]
    },
    {
      "cell_type": "markdown",
      "metadata": {
        "id": "ARS1c9CD0ElD"
      },
      "source": [
        "## MNIST 데이터셋 형상 확인"
      ]
    },
    {
      "cell_type": "code",
      "execution_count": null,
      "metadata": {
        "colab": {
          "base_uri": "https://localhost:8080/",
          "height": 484
        },
        "id": "FZdigwTg0GnB",
        "outputId": "5b59946b-7572-48c5-96c7-3dbf91d101dd"
      },
      "outputs": [
        {
          "output_type": "stream",
          "name": "stdout",
          "text": [
            "60000\n",
            "torch.Size([1, 28, 28])\n",
            "5\n"
          ]
        },
        {
          "output_type": "display_data",
          "data": {
            "text/plain": [
              "<Figure size 640x480 with 1 Axes>"
            ],
            "image/png": "[encoded data removed]"
          },
          "metadata": {}
        }
      ],
      "source": [
        "import matplotlib.pyplot as plt\n",
        "print(len(mnist_train))     # training dataset 개수 확인\n",
        "\n",
        "first_data = mnist_train[0]\n",
        "print(first_data[0].shape)  # 첫번째 data의 형상 확인\n",
        "print(first_data[1])        # 첫번째 data의 정답 확인\n",
        "\n",
        "plt.imshow(first_data[0][0,:,:], cmap='gray')\n",
        "plt.show()"
      ]
    },
    {
      "cell_type": "code",
      "execution_count": null,
      "metadata": {
        "id": "tgdqeLr30SDG",
        "colab": {
          "base_uri": "https://localhost:8080/"
        },
        "outputId": "e3390c8d-6bd9-400b-a380-aa8b380bafe5"
      },
      "outputs": [
        {
          "output_type": "stream",
          "name": "stdout",
          "text": [
            "torch.Size([1, 28, 28])\n",
            "torch.Size([1, 784])\n"
          ]
        }
      ],
      "source": [
        "first_img = first_data[0]\n",
        "print(first_img.shape)\n",
        "\n",
        "first_img = first_img.view(-1, 28*28) # 이미지 평탄화 수행 2D -> 1D\n",
        "print(first_img.shape)"
      ]
    },
    {
      "cell_type": "markdown",
      "metadata": {
        "id": "nOCujlwh0TJw"
      },
      "source": [
        "## Multi Layer Perceptron 모델 정의"
      ]
    },
    {
      "cell_type": "code",
      "execution_count": null,
      "metadata": {
        "id": "S3LB6Iv-0U56"
      },
      "outputs": [],
      "source": [
        "class MLP (nn.Module):\n",
        "  def __init__ (self):\n",
        "    super(MLP, self).__init__()\n",
        "    self.fc1 = nn.Linear(in_features=784, out_features=100)\n",
        "    self.fc2 = nn.Linear(in_features=100, out_features=10)\n",
        "    self.sigmoid = nn.Sigmoid()\n",
        "\n",
        "  def forward(self, x):\n",
        "    x = x.view(-1, 28*28)\n",
        "    y = self.sigmoid(self.fc1(x))\n",
        "    y = self.fc2(y)\n",
        "    return y"
      ]
    },
    {
      "cell_type": "markdown",
      "metadata": {
        "id": "ltAhcjO60b0x"
      },
      "source": [
        "## Hyper-parameters 지정"
      ]
    },
    {
      "cell_type": "code",
      "execution_count": null,
      "metadata": {
        "id": "r1INfQRt0eJm"
      },
      "outputs": [],
      "source": [
        "batch_size = 100\n",
        "learning_rate = 0.1\n",
        "training_epochs = 15\n",
        "loss_function = nn.CrossEntropyLoss()\n",
        "network = MLP()\n",
        "optimizer = torch.optim.SGD(network.parameters(), lr = learning_rate)\n",
        "\n",
        "data_loader = DataLoader(dataset=mnist_train,\n",
        "                         batch_size=batch_size,\n",
        "                         shuffle=True,\n",
        "                         drop_last=True)"
      ]
    },
    {
      "cell_type": "markdown",
      "metadata": {
        "id": "zfy95Byn0f1E"
      },
      "source": [
        "## Perceptron 학습을 위한 반복문 선언"
      ]
    },
    {
      "cell_type": "code",
      "execution_count": null,
      "metadata": {
        "colab": {
          "base_uri": "https://localhost:8080/"
        },
        "id": "KEngtl0a0hFs",
        "outputId": "5bc7ad81-0000-449e-98ab-939f5a69e066"
      },
      "outputs": [
        {
          "output_type": "stream",
          "name": "stdout",
          "text": [
            "Epoch: 1 Loss = 1.150938\n",
            "Epoch: 2 Loss = 0.446179\n",
            "Epoch: 3 Loss = 0.359760\n",
            "Epoch: 4 Loss = 0.323370\n",
            "Epoch: 5 Loss = 0.301021\n",
            "Epoch: 6 Loss = 0.283951\n",
            "Epoch: 7 Loss = 0.269888\n",
            "Epoch: 8 Loss = 0.257492\n",
            "Epoch: 9 Loss = 0.246509\n",
            "Epoch: 10 Loss = 0.236325\n",
            "Epoch: 11 Loss = 0.226857\n",
            "Epoch: 12 Loss = 0.217887\n",
            "Epoch: 13 Loss = 0.210007\n",
            "Epoch: 14 Loss = 0.202335\n",
            "Epoch: 15 Loss = 0.195260\n",
            "Learning finished\n"
          ]
        }
      ],
      "source": [
        "network = network.to('cuda:0')\n",
        "for epoch in range(training_epochs):\n",
        "  avg_cost = 0\n",
        "  total_batch = len(data_loader)\n",
        "\n",
        "  for img, label in data_loader:\n",
        "\n",
        "    img = img.to('cuda:0')\n",
        "    label = label.to('cuda:0')\n",
        "\n",
        "    pred = network(img)\n",
        "\n",
        "    loss = loss_function(pred, label)\n",
        "    optimizer.zero_grad() # gradient 초기화\n",
        "    loss.backward()\n",
        "    optimizer.step()\n",
        "\n",
        "    avg_cost += loss / total_batch\n",
        "\n",
        "  print('Epoch: %d Loss = %f'%(epoch+1, avg_cost))\n",
        "\n",
        "print('Learning finished')"
      ]
    },
    {
      "cell_type": "markdown",
      "metadata": {
        "id": "7UeKYHAz1NdM"
      },
      "source": [
        "## 학습이 완료된 모델을 이용해 정답률 확인"
      ]
    },
    {
      "cell_type": "code",
      "execution_count": null,
      "metadata": {
        "colab": {
          "base_uri": "https://localhost:8080/"
        },
        "id": "1AoZ9Dmh1Pxj",
        "outputId": "8e3d4a49-a814-4b89-b312-218bc040a188"
      },
      "outputs": [
        {
          "output_type": "stream",
          "name": "stdout",
          "text": [
            "Accuracy: 0.9391999840736389\n"
          ]
        }
      ],
      "source": [
        "network = network.to('cpu')\n",
        "with torch.no_grad(): # test에서는 기울기 계산 제외\n",
        "\n",
        "  img_test = mnist_test.data.float()\n",
        "  label_test = mnist_test.targets\n",
        "\n",
        "  prediction = network(img_test) # 전체 test data를 한번에 계산\n",
        "\n",
        "  correct_prediction = torch.argmax(prediction, 1) == label_test\n",
        "  accuracy = correct_prediction.float().mean()\n",
        "  print('Accuracy:', accuracy.item())"
      ]
    },
    {
      "cell_type": "markdown",
      "metadata": {
        "id": "ny2DxKku1IrG"
      },
      "source": [
        "## Weight parameter 저장하기/불러오기"
      ]
    },
    {
      "cell_type": "code",
      "execution_count": null,
      "metadata": {
        "id": "J8Tvp37r1LTR"
      },
      "outputs": [],
      "source": [
        "torch.save(network.state_dict(), \"./mlp_mnist.pth\")"
      ]
    }
  ],
  "metadata": {
    "accelerator": "GPU",
    "colab": {
      "gpuType": "T4",
      "provenance": [],
      "include_colab_link": true
    },
    "kernelspec": {
      "display_name": "Python 3",
      "name": "python3"
    },
    "language_info": {
      "name": "python"
    }
  },
  "nbformat": 4,
  "nbformat_minor": 0
}